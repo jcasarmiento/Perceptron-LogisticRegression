{
 "cells": [
  {
   "attachments": {},
   "cell_type": "markdown",
   "metadata": {},
   "source": [
    "# Classification with perceptron"
   ]
  },
  {
   "attachments": {},
   "cell_type": "markdown",
   "metadata": {},
   "source": [
    "### Dataset\n",
    "\n",
    "Using MNIST (the one inside sklearn, with dimensions 8*8)"
   ]
  },
  {
   "cell_type": "code",
   "execution_count": 1,
   "metadata": {},
   "outputs": [],
   "source": [
    "from sklearn.datasets import load_digits\n",
    "import numpy as np\n",
    "import pandas as pd\n",
    "import matplotlib.pyplot as plt"
   ]
  },
  {
   "cell_type": "code",
   "execution_count": 2,
   "metadata": {},
   "outputs": [],
   "source": [
    "mnist = load_digits()\n",
    "data=pd.DataFrame(mnist.data)\n",
    "target=pd.DataFrame(mnist.target)"
   ]
  },
  {
   "cell_type": "code",
   "execution_count": 114,
   "metadata": {},
   "outputs": [
    {
     "data": {
      "text/plain": [
       "((361, 64), (361, 1))"
      ]
     },
     "execution_count": 114,
     "metadata": {},
     "output_type": "execute_result"
    }
   ],
   "source": [
    "class_1 = 1\n",
    "class_2 = 7\n",
    "\n",
    "# Create a binary classification dataset by selecting only the rows that correspond to class_1 and class_2\n",
    "data_bin = data[(mnist.target == class_1) | (mnist.target == class_2)]\n",
    "target_bin = target[(mnist.target == class_1) | (mnist.target == class_2)]\n",
    "target_bin = (target_bin == class_1).astype(int)  # Convert the labels to 0 or 1\n",
    "data_bin.shape,target_bin.shape"
   ]
  },
  {
   "attachments": {},
   "cell_type": "markdown",
   "metadata": {},
   "source": [
    "No need to reshape images as the shape is already flat. Now split into train-test:"
   ]
  },
  {
   "cell_type": "code",
   "execution_count": 115,
   "metadata": {},
   "outputs": [
    {
     "data": {
      "text/plain": [
       "((288, 64), (73, 64), (288, 1), (73, 1))"
      ]
     },
     "execution_count": 115,
     "metadata": {},
     "output_type": "execute_result"
    }
   ],
   "source": [
    "from sklearn.model_selection import train_test_split\n",
    "\n",
    "X_train, X_test, y_train, y_test = train_test_split(data_bin, target_bin, test_size=0.2, random_state=42)\n",
    "X_train.shape, X_test.shape, y_train.shape, y_test.shape"
   ]
  },
  {
   "cell_type": "code",
   "execution_count": 116,
   "metadata": {},
   "outputs": [],
   "source": [
    "X_train, X_test, y_train, y_test = X_train.to_numpy(), X_test.to_numpy(), y_train.to_numpy(), y_test.to_numpy()"
   ]
  },
  {
   "attachments": {},
   "cell_type": "markdown",
   "metadata": {},
   "source": [
    "### Perceptron:"
   ]
  },
  {
   "cell_type": "code",
   "execution_count": 117,
   "metadata": {},
   "outputs": [],
   "source": [
    "# https://towardsdatascience.com/perceptron-learning-algorithm-d5db0deab975\n",
    "\n",
    "class perceptron:\n",
    "    def __init__(self):\n",
    "        self.weights=0\n",
    "        # x0 will be added to the input matrix and bias will be position 0 (x_0 = 1, W*X = W_0*X_0 + W_1*x_1 +...)\n",
    "\n",
    "    def init_weights(self,shape):\n",
    "        W=np.random.rand(shape)\n",
    "        W=W.reshape(-1,1)\n",
    "        # print(W.shape)\n",
    "        return W\n",
    "    \n",
    "    def fit(self,data,labels,iters,label_=None):\n",
    "        self.weights=self.init_weights(data.shape[1]+1)\n",
    "        # print(\"W\",self.weights.shape)\n",
    "        x0=np.ones((data.shape[0],1))    #add x0 so the dot product can be computed\n",
    "        X=np.column_stack((x0,data))\n",
    "        # print(X[0,:])\n",
    "        for i in range(iters):\n",
    "            ix=np.random.choice(X.shape[0],size=1)\n",
    "            x=X[ix,:].T\n",
    "            # print(\"x\",x.shape)\n",
    "            dot=np.dot(self.weights.T,x)\n",
    "            # print(\"dot\",dot.shape)\n",
    "            if label_ is not None:\n",
    "                print(label_[ix])\n",
    "            if labels[ix] and dot<0:\n",
    "                self.weights+=x\n",
    "            if not labels[ix] and dot>=0:\n",
    "                self.weights-=x\n",
    "        return\n",
    "\n",
    "\n",
    "    def predict(self,data):\n",
    "        predictions=np.where(np.dot(data, self.weights[1:]) + self.weights[0] <= 0, -1, 1)\n",
    "        return predictions"
   ]
  },
  {
   "cell_type": "code",
   "execution_count": 130,
   "metadata": {},
   "outputs": [],
   "source": [
    "from sklearn.preprocessing import MinMaxScaler\n",
    "\n",
    "scaler=MinMaxScaler()\n",
    "scaler.fit(X_train)\n",
    "X_train=scaler.transform(X_train)\n",
    "X_test=scaler.transform(X_test)\n",
    "# print(y_train[0,:])\n",
    "\n",
    "p=perceptron()\n",
    "p.fit(X_train,y_train,iters=100)"
   ]
  },
  {
   "cell_type": "code",
   "execution_count": 131,
   "metadata": {},
   "outputs": [
    {
     "name": "stdout",
     "output_type": "stream",
     "text": [
      "Accuracy:  0.547945205479452\n"
     ]
    }
   ],
   "source": [
    "from sklearn.metrics import accuracy_score\n",
    "\n",
    "accuracy=accuracy_score(y_test,p.predict(X_test))\n",
    "print(\"Accuracy: \",accuracy)"
   ]
  },
  {
   "cell_type": "code",
   "execution_count": null,
   "metadata": {},
   "outputs": [],
   "source": []
  },
  {
   "cell_type": "code",
   "execution_count": null,
   "metadata": {},
   "outputs": [],
   "source": []
  }
 ],
 "metadata": {
  "kernelspec": {
   "display_name": "data_science_conda",
   "language": "python",
   "name": "data_science_conda"
  },
  "language_info": {
   "codemirror_mode": {
    "name": "ipython",
    "version": 3
   },
   "file_extension": ".py",
   "mimetype": "text/x-python",
   "name": "python",
   "nbconvert_exporter": "python",
   "pygments_lexer": "ipython3",
   "version": "3.9.16"
  },
  "orig_nbformat": 4
 },
 "nbformat": 4,
 "nbformat_minor": 2
}
